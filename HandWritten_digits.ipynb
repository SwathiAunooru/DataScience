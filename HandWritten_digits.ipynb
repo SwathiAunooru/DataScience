{
  "nbformat": 4,
  "nbformat_minor": 0,
  "metadata": {
    "colab": {
      "name": "HandWritten_digits.ipynb",
      "version": "0.3.2",
      "provenance": [],
      "include_colab_link": true
    },
    "kernelspec": {
      "name": "python3",
      "display_name": "Python 3"
    }
  },
  "cells": [
    {
      "cell_type": "markdown",
      "metadata": {
        "id": "view-in-github",
        "colab_type": "text"
      },
      "source": [
        "<a href=\"https://colab.research.google.com/github/SwathiAunooru/DataScience/blob/master/HandWritten_digits.ipynb\" target=\"_parent\"><img src=\"https://colab.research.google.com/assets/colab-badge.svg\" alt=\"Open In Colab\"/></a>"
      ]
    },
    {
      "cell_type": "code",
      "metadata": {
        "id": "cJjiEOEabpZm",
        "colab_type": "code",
        "colab": {}
      },
      "source": [
        "import tensorflow as tf\n",
        "from keras.datasets import mnist\n",
        "import matplotlib.pyplot as plt"
      ],
      "execution_count": 0,
      "outputs": []
    },
    {
      "cell_type": "code",
      "metadata": {
        "id": "tYMWSMyAdN-h",
        "colab_type": "code",
        "colab": {}
      },
      "source": [
        "(x_train,y_train),(x_test,y_test) = mnist.load_data()"
      ],
      "execution_count": 0,
      "outputs": []
    },
    {
      "cell_type": "code",
      "metadata": {
        "id": "54Gbg0ZbdjJx",
        "colab_type": "code",
        "colab": {
          "base_uri": "https://localhost:8080/",
          "height": 167
        },
        "outputId": "12f60f0d-bbed-45c3-af47-36ded3bd9f16"
      },
      "source": [
        "plt.subplot(221)\n",
        "plt.imshow(x_train[0],cmap=plt.get_cmap('gray'))"
      ],
      "execution_count": 12,
      "outputs": [
        {
          "output_type": "execute_result",
          "data": {
            "text/plain": [
              "<matplotlib.image.AxesImage at 0x7f4158641eb8>"
            ]
          },
          "metadata": {
            "tags": []
          },
          "execution_count": 12
        },
        {
          "output_type": "display_data",
          "data": {
            "image/png": "[encoded data removed]",
            "text/plain": [
              "<Figure size 432x288 with 1 Axes>"
            ]
          },
          "metadata": {
            "tags": []
          }
        }
      ]
    },
    {
      "cell_type": "code",
      "metadata": {
        "id": "9pNbBgUiel5G",
        "colab_type": "code",
        "colab": {
          "base_uri": "https://localhost:8080/",
          "height": 34
        },
        "outputId": "1298bba1-38f5-4a09-edcb-9a385ffaf913"
      },
      "source": [
        "x_train.shape"
      ],
      "execution_count": 19,
      "outputs": [
        {
          "output_type": "execute_result",
          "data": {
            "text/plain": [
              "(60000, 28, 28)"
            ]
          },
          "metadata": {
            "tags": []
          },
          "execution_count": 19
        }
      ]
    },
    {
      "cell_type": "code",
      "metadata": {
        "id": "2qv1046ZeMAf",
        "colab_type": "code",
        "colab": {
          "base_uri": "https://localhost:8080/",
          "height": 167
        },
        "outputId": "1aa3a453-e09e-44f5-90a8-6a9d9af16340"
      },
      "source": [
        "plt.subplot(221)\n",
        "plt.imshow(x_train[55],cmap=plt.get_cmap('gray'))"
      ],
      "execution_count": 38,
      "outputs": [
        {
          "output_type": "execute_result",
          "data": {
            "text/plain": [
              "<matplotlib.image.AxesImage at 0x7f4147206518>"
            ]
          },
          "metadata": {
            "tags": []
          },
          "execution_count": 38
        },
        {
          "output_type": "display_data",
          "data": {
            "image/png": "[encoded data removed]",
            "text/plain": [
              "<Figure size 432x288 with 1 Axes>"
            ]
          },
          "metadata": {
            "tags": []
          }
        }
      ]
    },
    {
      "cell_type": "code",
      "metadata": {
        "id": "yBQ-bdlzeQSN",
        "colab_type": "code",
        "colab": {
          "base_uri": "https://localhost:8080/",
          "height": 84
        },
        "outputId": "faf33e19-dfb2-40d8-f26e-091eb90a20b2"
      },
      "source": [
        "from tensorflow.examples.tutorials.mnist import input_data\n",
        "mnist = input_data.read_data_sets(\"/tmp/data\",one_hot=True)"
      ],
      "execution_count": 23,
      "outputs": [
        {
          "output_type": "stream",
          "text": [
            "Extracting /tmp/data/train-images-idx3-ubyte.gz\n",
            "Extracting /tmp/data/train-labels-idx1-ubyte.gz\n",
            "Extracting /tmp/data/t10k-images-idx3-ubyte.gz\n",
            "Extracting /tmp/data/t10k-labels-idx1-ubyte.gz\n"
          ],
          "name": "stdout"
        }
      ]
    },
    {
      "cell_type": "code",
      "metadata": {
        "id": "20QwsY1SfQRc",
        "colab_type": "code",
        "colab": {}
      },
      "source": [
        "n_nodes_hl1 = 500 #num of nodes in hid layer 1\n",
        "n_nodes_hl2 = 500 #num of nodes in hid layer 2\n",
        "n_nodes_hl3 = 500 #num of nodes in hid layer 3\n",
        "\n",
        "n_classes = 10 # as v hv 10 digits 0 to 9\n",
        "batch_size = 100\n"
      ],
      "execution_count": 0,
      "outputs": []
    },
    {
      "cell_type": "code",
      "metadata": {
        "id": "6TtI5GKqfimn",
        "colab_type": "code",
        "colab": {}
      },
      "source": [
        "x = tf.placeholder('float',[None,784])\n",
        "y = tf.placeholder('float',[None,n_classes])"
      ],
      "execution_count": 0,
      "outputs": []
    },
    {
      "cell_type": "code",
      "metadata": {
        "id": "lgLaHXddf6VM",
        "colab_type": "code",
        "colab": {
          "base_uri": "https://localhost:8080/",
          "height": 34
        },
        "outputId": "068c4f5c-44d5-4c7d-e959-254b3d895ea7"
      },
      "source": [
        "test = tf.random_normal([784,500])\n",
        "print(test)"
      ],
      "execution_count": 31,
      "outputs": [
        {
          "output_type": "stream",
          "text": [
            "Tensor(\"random_normal_1:0\", shape=(784, 500), dtype=float32)\n"
          ],
          "name": "stdout"
        }
      ]
    },
    {
      "cell_type": "code",
      "metadata": {
        "id": "nbm-7iJngF4J",
        "colab_type": "code",
        "colab": {}
      },
      "source": [
        "def neuralnetworkmodel(data):\n",
        "  \n",
        "  hidden_1_layer = {'weights':tf.Variable(tf.random_normal([784,n_nodes_hl1])),\n",
        "                    'biases':tf.Variable(tf.random_normal([n_nodes_hl1]))}\n",
        "    # 784 rnd norml distr nmbrs with a size of n_nds_hl1\n",
        "  hidden_2_layer = {'weights':tf.Variable(tf.random_normal([n_nodes_hl1,n_nodes_hl2])),\n",
        "                    'biases':tf.Variable(tf.random_normal([n_nodes_hl2]))}\n",
        "    # the ip for layer2 is the op of lyr1\n",
        "    # so n_nodes_hl1 bcms the ip \n",
        "    # nd n_nodes_hl2 bcms the op of ly2\n",
        "  hidden_3_layer = {'weights':tf.Variable(tf.random_normal([n_nodes_hl2,n_nodes_hl3])),\n",
        "                    'biases':tf.Variable(tf.random_normal([n_nodes_hl3]))}\n",
        "  output_layer = {'weights':tf.Variable(tf.random_normal([n_nodes_hl3,n_classes])), #n_clss is a vec of 10 neurons with 10 dfrnt\n",
        "                   # vals which r then cmprd with encded vals of real nums in the pic\n",
        "                    'biases':tf.Variable(tf.random_normal([n_classes]))}\n",
        "    # layer1\n",
        "  l1 = tf.add(tf.matmul(data,hidden_1_layer['weights']),hidden_1_layer['biases'])\n",
        "    # v r multiplying data with hdn layer 1 with the wts nd then add the bias\n",
        "    \n",
        "    #nxt v need to add the activ func \n",
        "    # nd the best one os relu\n",
        "  l1 = tf.nn.relu(l1) #this will put the op of act func in l1\n",
        "  l2 = tf.add(tf.matmul(l1,hidden_2_layer['weights']),hidden_2_layer['biases'])\n",
        "  l2 = tf.nn.relu(l2) #this will put the op of act func in l\n",
        "  l3 = tf.add(tf.matmul(l2,hidden_3_layer['weights']),hidden_3_layer['biases'])\n",
        "  l3 = tf.nn.relu(l3) #this will put the op of act func in l\n",
        "  output = tf.matmul(l3,output_layer['weights']) + output_layer['biases']\n",
        "    #output = tf.nn.relu(l3) #this will put the op of act func in l\n",
        "  return output"
      ],
      "execution_count": 0,
      "outputs": []
    },
    {
      "cell_type": "code",
      "metadata": {
        "id": "6iC2oCpGhrVi",
        "colab_type": "code",
        "colab": {}
      },
      "source": [
        "def trainneuralnetwork(x):\n",
        "    prediction = neuralnetworkmodel(x)\n",
        "    # next v need to cmpr our prediction with encoded val\n",
        "    # to do this v use the cost func\n",
        "    cost = tf.reduce_mean(tf.nn.softmax_cross_entropy_with_logits(logits=prediction,labels=y)) \n",
        "    # softmax_cross_entropy_with_logits refers to logstc regr\n",
        "    # this is used for reducing the cost\n",
        "    optimizer = tf.train.AdamOptimizer().minimize(cost)\n",
        "    # this is the stochastic grad desc\n",
        "    epochs = 3\n",
        "    # v hv 60k training imgs \n",
        "    with tf.Session() as sess:\n",
        "        sess.run(tf.global_variables_initializer()) # this will initialize the placeholder global vars v created on the top\n",
        "        \n",
        "        for ep in range(epochs):\n",
        "            epoch_loss = 0 \n",
        "            for _ in range(int(mnist.train.num_examples/batch_size)): #same as 60k/100\n",
        "                epoch_x,epoch_y = mnist.train.next_batch(batch_size) # for ea ep for ea btch size\n",
        "                # say v r creating 100 images of our training data\n",
        "                _,c = sess.run([optimizer,cost],feed_dict={x:epoch_x, y:epoch_y})\n",
        "                epoch_loss+=c # this will calc the tot loss for 1 epoch aftr going thru all the 600 btchs\n",
        "                # of a 100 pics\n",
        "                print('Epoch:', ep, ' completed out of ', epochs, ' loss', epoch_loss)\n",
        "            correct = tf.equal(tf.argmax(prediction,1), tf.argmax(y,1))\n",
        "            # the op v get is a vec\n",
        "            accuracy = tf.reduce_mean(tf.cast(correct,'float'))\n",
        "            print('Accuracy: ', accuracy.eval({x:mnist.test.images,y:mnist.test.labels})) # here is where the 10k imgs r taken\n"
      ],
      "execution_count": 0,
      "outputs": []
    },
    {
      "cell_type": "code",
      "metadata": {
        "id": "sBS4qXbfh1ON",
        "colab_type": "code",
        "colab": {}
      },
      "source": [
        "trainneuralnetwork(x)\n"
      ],
      "execution_count": 0,
      "outputs": []
    }
  ]
}